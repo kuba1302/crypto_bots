{
 "cells": [
  {
   "cell_type": "code",
   "execution_count": 115,
   "metadata": {},
   "outputs": [],
   "source": [
    "from dotenv import load_dotenv\n",
    "import requests\n",
    "from binance.spot import Spot as Client\n",
    "from binance.enums import ORDER_TYPE_MARKET\n",
    "from urllib.parse import urljoin, urlencode\n",
    "import json\n",
    "import os"
   ]
  },
  {
   "cell_type": "code",
   "execution_count": 69,
   "metadata": {},
   "outputs": [
    {
     "data": {
      "text/plain": [
       "True"
      ]
     },
     "execution_count": 69,
     "metadata": {},
     "output_type": "execute_result"
    }
   ],
   "source": [
    "load_dotenv()"
   ]
  },
  {
   "cell_type": "code",
   "execution_count": 70,
   "metadata": {},
   "outputs": [],
   "source": [
    "API_KEY = os.environ[\"API_KEY\"]\n",
    "SECRET_KEY = os.environ[\"SECRET_KEY\"]\n",
    "BASE_URL = \"https://testnet.binance.vision/api\"\n",
    "\n",
    "headers = {\"X-MBX-APIKEY\": API_KEY}\n"
   ]
  },
  {
   "cell_type": "code",
   "execution_count": 71,
   "metadata": {},
   "outputs": [],
   "source": [
    "client = Client(base_url='https://testnet.binance.vision', key=API_KEY, secret=SECRET_KEY)"
   ]
  },
  {
   "cell_type": "code",
   "execution_count": 119,
   "metadata": {},
   "outputs": [
    {
     "ename": "TypeError",
     "evalue": "new_order() missing 1 required positional argument: 'side'",
     "output_type": "error",
     "traceback": [
      "\u001b[1;31m---------------------------------------------------------------------------\u001b[0m",
      "\u001b[1;31mTypeError\u001b[0m                                 Traceback (most recent call last)",
      "\u001b[1;32mc:\\crypto_bots\\bot\\binance_testing.ipynb Cell 5'\u001b[0m in \u001b[0;36m<cell line: 1>\u001b[1;34m()\u001b[0m\n\u001b[1;32m----> <a href='vscode-notebook-cell:/c%3A/crypto_bots/bot/binance_testing.ipynb#ch0000023?line=0'>1</a>\u001b[0m client\u001b[39m.\u001b[39;49mnew_order(\u001b[39mtype\u001b[39;49m\u001b[39m=\u001b[39;49m\u001b[39m\"\u001b[39;49m\u001b[39mbuy\u001b[39;49m\u001b[39m\"\u001b[39;49m, symbol\u001b[39m=\u001b[39;49m\u001b[39m'\u001b[39;49m\u001b[39mBTC\u001b[39;49m\u001b[39m'\u001b[39;49m,\n\u001b[0;32m      <a href='vscode-notebook-cell:/c%3A/crypto_bots/bot/binance_testing.ipynb#ch0000023?line=1'>2</a>\u001b[0m     quantity\u001b[39m=\u001b[39;49m\u001b[39m0.001\u001b[39;49m)\n",
      "\u001b[1;31mTypeError\u001b[0m: new_order() missing 1 required positional argument: 'side'"
     ]
    }
   ],
   "source": [
    "client.new_order(type=\"buy\", symbol='BTC',\n",
    "    quantity=0.001)"
   ]
  },
  {
   "cell_type": "code",
   "execution_count": 117,
   "metadata": {},
   "outputs": [
    {
     "ename": "AttributeError",
     "evalue": "'Spot' object has no attribute 'create_order'",
     "output_type": "error",
     "traceback": [
      "\u001b[1;31m---------------------------------------------------------------------------\u001b[0m",
      "\u001b[1;31mAttributeError\u001b[0m                            Traceback (most recent call last)",
      "\u001b[1;32mc:\\crypto_bots\\bot\\binance_testing.ipynb Cell 5'\u001b[0m in \u001b[0;36m<cell line: 1>\u001b[1;34m()\u001b[0m\n\u001b[1;32m----> <a href='vscode-notebook-cell:/c%3A/crypto_bots/bot/binance_testing.ipynb#ch0000022?line=0'>1</a>\u001b[0m order \u001b[39m=\u001b[39m client\u001b[39m.\u001b[39;49mcreate_order(\n\u001b[0;32m      <a href='vscode-notebook-cell:/c%3A/crypto_bots/bot/binance_testing.ipynb#ch0000022?line=1'>2</a>\u001b[0m     symbol\u001b[39m=\u001b[39m\u001b[39m'\u001b[39m\u001b[39mBTC\u001b[39m\u001b[39m'\u001b[39m,\n\u001b[0;32m      <a href='vscode-notebook-cell:/c%3A/crypto_bots/bot/binance_testing.ipynb#ch0000022?line=2'>3</a>\u001b[0m     quantity\u001b[39m=\u001b[39m\u001b[39m0.001\u001b[39m)\n",
      "\u001b[1;31mAttributeError\u001b[0m: 'Spot' object has no attribute 'create_order'"
     ]
    }
   ],
   "source": [
    "params = {\n",
    "    'symbol': 'BTCUSDT',\n",
    "    'side': 'BUY',\n",
    "    'type': 'LIMIT',\n",
    "    'timeInForce': 'GTC',\n",
    "    'quantity': 0.0002,\n",
    "    'price': 9500\n",
    "}\n",
    "\n",
    "response = client.new_order(**params)"
   ]
  },
  {
   "cell_type": "code",
   "execution_count": 81,
   "metadata": {},
   "outputs": [],
   "source": [
    "balances = client.account()[\"balances\"]"
   ]
  },
  {
   "cell_type": "code",
   "execution_count": 108,
   "metadata": {},
   "outputs": [
    {
     "data": {
      "text/plain": [
       "[{'asset': 'BNB', 'free': '1000.00000000', 'locked': '0.00000000'},\n",
       " {'asset': 'BTC', 'free': '1.00000000', 'locked': '0.00000000'},\n",
       " {'asset': 'BUSD', 'free': '10000.00000000', 'locked': '0.00000000'},\n",
       " {'asset': 'ETH', 'free': '100.00000000', 'locked': '0.00000000'},\n",
       " {'asset': 'LTC', 'free': '500.00000000', 'locked': '0.00000000'},\n",
       " {'asset': 'TRX', 'free': '500000.00000000', 'locked': '0.00000000'},\n",
       " {'asset': 'USDT', 'free': '10000.00000000', 'locked': '0.00000000'},\n",
       " {'asset': 'XRP', 'free': '50000.00000000', 'locked': '0.00000000'}]"
      ]
     },
     "execution_count": 108,
     "metadata": {},
     "output_type": "execute_result"
    }
   ],
   "source": [
    "client.get_order()"
   ]
  },
  {
   "cell_type": "code",
   "execution_count": 112,
   "metadata": {},
   "outputs": [],
   "source": [
    "def find_ticker(tickers, balances):\n",
    "    return {\n",
    "        ticker_dict[\"asset\"]: float(ticker_dict[\"free\"])\n",
    "        for ticker_dict in balances\n",
    "        if  ticker_dict[\"asset\"] in tickers\n",
    "    }\n"
   ]
  },
  {
   "cell_type": "code",
   "execution_count": 114,
   "metadata": {},
   "outputs": [
    {
     "data": {
      "text/plain": [
       "{'BTC': 1.0, 'USDT': 10000.0}"
      ]
     },
     "execution_count": 114,
     "metadata": {},
     "output_type": "execute_result"
    }
   ],
   "source": [
    "find_ticker([\"BTC\", \"USDT\"], balances)"
   ]
  },
  {
   "cell_type": "code",
   "execution_count": null,
   "metadata": {},
   "outputs": [],
   "source": []
  }
 ],
 "metadata": {
  "interpreter": {
   "hash": "c5e48de25f26e852a66d75c4847f552c71660e44b4d334485168ec3125e5a081"
  },
  "kernelspec": {
   "display_name": "Python 3.9.12 64-bit (windows store)",
   "language": "python",
   "name": "python3"
  },
  "language_info": {
   "codemirror_mode": {
    "name": "ipython",
    "version": 3
   },
   "file_extension": ".py",
   "mimetype": "text/x-python",
   "name": "python",
   "nbconvert_exporter": "python",
   "pygments_lexer": "ipython3",
   "version": "3.9.13"
  },
  "orig_nbformat": 4
 },
 "nbformat": 4,
 "nbformat_minor": 2
}
