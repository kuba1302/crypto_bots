{
 "cells": [
  {
   "cell_type": "code",
   "execution_count": 164,
   "metadata": {},
   "outputs": [],
   "source": [
    "from dotenv import load_dotenv\n",
    "import requests\n",
    "from binance.spot import Spot as Client\n",
    "from binance.enums import ORDER_TYPE_MARKET\n",
    "from urllib.parse import urljoin, urlencode\n",
    "import json\n",
    "import os\n",
    "from dataclasses import dataclass\n"
   ]
  },
  {
   "cell_type": "code",
   "execution_count": 69,
   "metadata": {},
   "outputs": [
    {
     "data": {
      "text/plain": [
       "True"
      ]
     },
     "execution_count": 69,
     "metadata": {},
     "output_type": "execute_result"
    }
   ],
   "source": [
    "load_dotenv()"
   ]
  },
  {
   "cell_type": "code",
   "execution_count": 165,
   "metadata": {},
   "outputs": [],
   "source": [
    "API_KEY = os.environ[\"API_KEY\"]\n",
    "SECRET_KEY = os.environ[\"SECRET_KEY\"]\n",
    "BASE_URL = \"https://testnet.binance.vision/api\"\n",
    "\n",
    "headers = {\"X-MBX-APIKEY\": API_KEY}\n"
   ]
  },
  {
   "cell_type": "code",
   "execution_count": 166,
   "metadata": {},
   "outputs": [],
   "source": [
    "client = Client(base_url='https://testnet.binance.vision', key=API_KEY, secret=SECRET_KEY)"
   ]
  },
  {
   "cell_type": "code",
   "execution_count": 139,
   "metadata": {},
   "outputs": [],
   "source": [
    "params = {\n",
    "    'symbol': 'BTCUSDT',\n",
    "    'side': 'BUY',\n",
    "    'type': 'MARKET',\n",
    "    'quantity': 0.2,\n",
    "}\n",
    "\n",
    "response = client.new_order(**params)"
   ]
  },
  {
   "cell_type": "code",
   "execution_count": 141,
   "metadata": {},
   "outputs": [
    {
     "data": {
      "text/plain": [
       "'FILLED'"
      ]
     },
     "execution_count": 141,
     "metadata": {},
     "output_type": "execute_result"
    }
   ],
   "source": [
    "response[\"status\"]"
   ]
  },
  {
   "cell_type": "code",
   "execution_count": 158,
   "metadata": {},
   "outputs": [],
   "source": [
    "@dataclass\n",
    "class BinanceBalance:\n",
    "    btc: float \n",
    "    usdt: float \n",
    "    \n",
    "    def get_total_balance(self, exchange_rate):\n",
    "        return self.btc * exchange_rate + self.usdt"
   ]
  },
  {
   "cell_type": "code",
   "execution_count": 159,
   "metadata": {},
   "outputs": [],
   "source": [
    "balance = BinanceBalance(btc=10, usdt=15)"
   ]
  },
  {
   "cell_type": "code",
   "execution_count": 162,
   "metadata": {},
   "outputs": [
    {
     "data": {
      "text/plain": [
       "\"balance: {'btc': 10, 'usdt': 15}\""
      ]
     },
     "execution_count": 162,
     "metadata": {},
     "output_type": "execute_result"
    }
   ],
   "source": [
    "f\"balance: {balance.__dict__}\""
   ]
  },
  {
   "cell_type": "code",
   "execution_count": 167,
   "metadata": {},
   "outputs": [],
   "source": [
    "balances = client.account()[\"balances\"]"
   ]
  },
  {
   "cell_type": "code",
   "execution_count": 168,
   "metadata": {},
   "outputs": [
    {
     "data": {
      "text/plain": [
       "[{'asset': 'BNB', 'free': '1000.00000000', 'locked': '0.00000000'},\n",
       " {'asset': 'BTC', 'free': '0.61428200', 'locked': '0.00000000'},\n",
       " {'asset': 'BUSD', 'free': '10000.00000000', 'locked': '0.00000000'},\n",
       " {'asset': 'ETH', 'free': '100.00000000', 'locked': '0.00000000'},\n",
       " {'asset': 'LTC', 'free': '500.00000000', 'locked': '0.00000000'},\n",
       " {'asset': 'TRX', 'free': '500000.00000000', 'locked': '0.00000000'},\n",
       " {'asset': 'USDT', 'free': '18953.63422158', 'locked': '0.00000000'},\n",
       " {'asset': 'XRP', 'free': '50000.00000000', 'locked': '0.00000000'}]"
      ]
     },
     "execution_count": 168,
     "metadata": {},
     "output_type": "execute_result"
    }
   ],
   "source": [
    "balances"
   ]
  },
  {
   "cell_type": "code",
   "execution_count": null,
   "metadata": {},
   "outputs": [],
   "source": [
    "params = {\n",
    "            \"symbol\": \"BTCUSDT\",\n",
    "            \"side\": \"BUY\",\n",
    "            \"type\": \"MARKET\",\n",
    "            \"quantity\": 0.741861,\n",
    "        }\n",
    "client.new_order(**params)"
   ]
  },
  {
   "cell_type": "code",
   "execution_count": 151,
   "metadata": {},
   "outputs": [
    {
     "data": {
      "text/plain": [
       "23537.31"
      ]
     },
     "execution_count": 151,
     "metadata": {},
     "output_type": "execute_result"
    }
   ],
   "source": [
    "test = client.ticker_price(\"BTCUSDT\")[\"price\"]\n",
    "float(test)"
   ]
  },
  {
   "cell_type": "code",
   "execution_count": 147,
   "metadata": {},
   "outputs": [],
   "source": [
    "def get_string_from_dict(dictionary):\n",
    "    string_list = [f\"{k}: {v}\" for k, v in dictionary.items()]\n",
    "    return \" - \".join(string_list)\n"
   ]
  },
  {
   "cell_type": "code",
   "execution_count": 148,
   "metadata": {},
   "outputs": [
    {
     "data": {
      "text/plain": [
       "'symbol: BTCUSDT - price: 23569.76000000'"
      ]
     },
     "execution_count": 148,
     "metadata": {},
     "output_type": "execute_result"
    }
   ],
   "source": [
    "get_string_from_dict(test)"
   ]
  },
  {
   "cell_type": "code",
   "execution_count": 136,
   "metadata": {},
   "outputs": [
    {
     "data": {
      "text/plain": [
       "[{'asset': 'BNB', 'free': '1000.00000000', 'locked': '0.00000000'},\n",
       " {'asset': 'BTC', 'free': '0.82000000', 'locked': '0.00000000'},\n",
       " {'asset': 'BUSD', 'free': '10000.00000000', 'locked': '0.00000000'},\n",
       " {'asset': 'ETH', 'free': '100.00000000', 'locked': '0.00000000'},\n",
       " {'asset': 'LTC', 'free': '500.00000000', 'locked': '0.00000000'},\n",
       " {'asset': 'TRX', 'free': '500000.00000000', 'locked': '0.00000000'},\n",
       " {'asset': 'USDT', 'free': '14205.45604809', 'locked': '0.00000000'},\n",
       " {'asset': 'XRP', 'free': '50000.00000000', 'locked': '0.00000000'}]"
      ]
     },
     "execution_count": 136,
     "metadata": {},
     "output_type": "execute_result"
    }
   ],
   "source": [
    "balances"
   ]
  },
  {
   "cell_type": "code",
   "execution_count": 108,
   "metadata": {},
   "outputs": [
    {
     "data": {
      "text/plain": [
       "[{'asset': 'BNB', 'free': '1000.00000000', 'locked': '0.00000000'},\n",
       " {'asset': 'BTC', 'free': '1.00000000', 'locked': '0.00000000'},\n",
       " {'asset': 'BUSD', 'free': '10000.00000000', 'locked': '0.00000000'},\n",
       " {'asset': 'ETH', 'free': '100.00000000', 'locked': '0.00000000'},\n",
       " {'asset': 'LTC', 'free': '500.00000000', 'locked': '0.00000000'},\n",
       " {'asset': 'TRX', 'free': '500000.00000000', 'locked': '0.00000000'},\n",
       " {'asset': 'USDT', 'free': '10000.00000000', 'locked': '0.00000000'},\n",
       " {'asset': 'XRP', 'free': '50000.00000000', 'locked': '0.00000000'}]"
      ]
     },
     "execution_count": 108,
     "metadata": {},
     "output_type": "execute_result"
    }
   ],
   "source": [
    "client.get_order()"
   ]
  },
  {
   "cell_type": "code",
   "execution_count": 112,
   "metadata": {},
   "outputs": [],
   "source": [
    "def find_ticker(tickers, balances):\n",
    "    return {\n",
    "        ticker_dict[\"asset\"]: float(ticker_dict[\"free\"])\n",
    "        for ticker_dict in balances\n",
    "        if  ticker_dict[\"asset\"] in tickers\n",
    "    }\n"
   ]
  },
  {
   "cell_type": "code",
   "execution_count": 114,
   "metadata": {},
   "outputs": [
    {
     "data": {
      "text/plain": [
       "{'BTC': 1.0, 'USDT': 10000.0}"
      ]
     },
     "execution_count": 114,
     "metadata": {},
     "output_type": "execute_result"
    }
   ],
   "source": [
    "find_ticker([\"BTC\", \"USDT\"], balances)"
   ]
  },
  {
   "cell_type": "code",
   "execution_count": null,
   "metadata": {},
   "outputs": [],
   "source": []
  }
 ],
 "metadata": {
  "interpreter": {
   "hash": "c5e48de25f26e852a66d75c4847f552c71660e44b4d334485168ec3125e5a081"
  },
  "kernelspec": {
   "display_name": "Python 3.9.12 64-bit (windows store)",
   "language": "python",
   "name": "python3"
  },
  "language_info": {
   "codemirror_mode": {
    "name": "ipython",
    "version": 3
   },
   "file_extension": ".py",
   "mimetype": "text/x-python",
   "name": "python",
   "nbconvert_exporter": "python",
   "pygments_lexer": "ipython3",
   "version": "3.9.13"
  },
  "orig_nbformat": 4
 },
 "nbformat": 4,
 "nbformat_minor": 2
}
