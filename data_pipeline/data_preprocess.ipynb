{
 "cells": [
  {
   "cell_type": "code",
   "execution_count": 18,
   "metadata": {},
   "outputs": [
    {
     "name": "stdout",
     "output_type": "stream",
     "text": [
      "The autoreload extension is already loaded. To reload it, use:\n",
      "  %reload_ext autoreload\n"
     ]
    }
   ],
   "source": [
    "%load_ext autoreload\n",
    "%autoreload 2\n",
    "\n",
    "import pandas as pd \n",
    "from pathlib import Path\n",
    "from production_pipeline import ProductionPipeline\n",
    "from pipeline import DataPipeline\n",
    "from datetime import datetime\n",
    "import os"
   ]
  },
  {
   "cell_type": "code",
   "execution_count": 19,
   "metadata": {},
   "outputs": [],
   "source": [
    "base_path = Path(os.path.abspath('')).parents[0]\n",
    "data_path = base_path / \"data\"\n",
    "save_path = data_path / \"preprocessed\"\n",
    "scaler_path = save_path / \"scalers_BTC.pickle\""
   ]
  },
  {
   "cell_type": "code",
   "execution_count": 111,
   "metadata": {},
   "outputs": [
    {
     "data": {
      "text/plain": [
       "WindowsPath('c:/crypto_bots/crypto_bots')"
      ]
     },
     "execution_count": 111,
     "metadata": {},
     "output_type": "execute_result"
    }
   ],
   "source": [
    "base_path"
   ]
  },
  {
   "cell_type": "code",
   "execution_count": 119,
   "metadata": {},
   "outputs": [],
   "source": [
    "pipeline = ProductionPipeline(scalers_path=scaler_path)"
   ]
  },
  {
   "cell_type": "code",
   "execution_count": 100,
   "metadata": {},
   "outputs": [],
   "source": [
    "def load_stock_data(data_path, ticker):\n",
    "    stock_data = pd.read_csv(data_path / f\"{ticker}.csv\", index_col=False)\n",
    "    stock_data[\"date\"] = stock_data[\"date\"].apply(\n",
    "        lambda x: datetime.fromisoformat(x)\n",
    "    )\n",
    "    stock_data.set_index(pd.DatetimeIndex(stock_data[\"date\"]))\n",
    "    return stock_data"
   ]
  },
  {
   "cell_type": "code",
   "execution_count": 117,
   "metadata": {},
   "outputs": [],
   "source": [
    "df = load_stock_data(data_path, \"BTC\")"
   ]
  },
  {
   "cell_type": "code",
   "execution_count": null,
   "metadata": {},
   "outputs": [],
   "source": []
  },
  {
   "cell_type": "code",
   "execution_count": 120,
   "metadata": {},
   "outputs": [],
   "source": [
    "df_t = pipeline.transform(df)"
   ]
  },
  {
   "cell_type": "code",
   "execution_count": 122,
   "metadata": {},
   "outputs": [],
   "source": [
    "import numpy as np\n",
    "test = np.array(df_t)"
   ]
  },
  {
   "cell_type": "code",
   "execution_count": 123,
   "metadata": {},
   "outputs": [
    {
     "data": {
      "text/plain": [
       "(60, 11)"
      ]
     },
     "execution_count": 123,
     "metadata": {},
     "output_type": "execute_result"
    }
   ],
   "source": [
    "test.shape"
   ]
  },
  {
   "cell_type": "code",
   "execution_count": 125,
   "metadata": {},
   "outputs": [
    {
     "data": {
      "text/plain": [
       "(1, 60, 11)"
      ]
     },
     "execution_count": 125,
     "metadata": {},
     "output_type": "execute_result"
    }
   ],
   "source": [
    "test.reshape([-1, 60, 11]).shape"
   ]
  },
  {
   "cell_type": "code",
   "execution_count": 3,
   "metadata": {},
   "outputs": [],
   "source": [
    "TICKER = \"BTC\"\n",
    "STEP_TRAIN = 60\n",
    "STEP_PREDICT = 1"
   ]
  },
  {
   "cell_type": "code",
   "execution_count": 15,
   "metadata": {},
   "outputs": [],
   "source": [
    "pipeline = DataPipeline(\n",
    "    ticker=TICKER,\n",
    "    data_path=data_path,\n",
    "    save_path=save_path,\n",
    "    sentiment_path=None,\n",
    "    step_train=STEP_TRAIN,\n",
    "    step_predict=STEP_PREDICT,\n",
    "    if_ta=True\n",
    ")\n"
   ]
  },
  {
   "cell_type": "code",
   "execution_count": 17,
   "metadata": {},
   "outputs": [
    {
     "name": "stdout",
     "output_type": "stream",
     "text": [
      "          open_tstmp      open      high       low     close        vol  \\\n",
      "0      1652306400000  29117.98  29130.00  28900.00  28997.37  158.56367   \n",
      "1      1652306460000  29002.05  29090.00  28924.63  28963.64   86.80578   \n",
      "2      1652306520000  28963.64  28999.00  28928.08  28975.00  113.34396   \n",
      "3      1652306580000  28975.02  28987.37  28862.71  28959.38   79.30267   \n",
      "4      1652306640000  28963.99  28967.28  28857.14  28876.25   86.39438   \n",
      "...              ...       ...       ...       ...       ...        ...   \n",
      "44636  1654984560000  28575.50  28575.51  28546.10  28546.11   30.96680   \n",
      "44637  1654984620000  28546.11  28556.81  28546.10  28556.81    3.28108   \n",
      "44638  1654984680000  28556.81  28556.81  28556.80  28556.81    4.33797   \n",
      "44639  1654984740000  28556.80  28567.18  28556.80  28561.05   15.39260   \n",
      "44640  1654984800000  28561.04  28578.08  28550.92  28568.19   22.23649   \n",
      "\n",
      "         close_tstmp     quote_vol  trades  taker_base  ...        wma_50  \\\n",
      "0      1652306459999  4.597744e+06    3681    77.34435  ...           NaN   \n",
      "1      1652306519999  2.516805e+06    2381    37.56652  ...           NaN   \n",
      "2      1652306579999  3.283994e+06    2314    58.66532  ...           NaN   \n",
      "3      1652306639999  2.294049e+06    2558    35.79845  ...           NaN   \n",
      "4      1652306699999  2.497813e+06    2329    41.54427  ...           NaN   \n",
      "...              ...           ...     ...         ...  ...           ...   \n",
      "44636  1654984619999  8.845389e+05     462     5.77347  ...  28566.008141   \n",
      "44637  1654984679999  9.369141e+04     313     1.94944  ...  28566.192729   \n",
      "44638  1654984739999  1.238786e+05     174     2.08493  ...  28566.314094   \n",
      "44639  1654984799999  4.396403e+05     386     7.48937  ...  28566.533647   \n",
      "44640  1654984859999  6.350840e+05     583    12.00707  ...  28566.974941   \n",
      "\n",
      "           bb_50_up    bb_50_down     sma_100       ema_100       wma_100  \\\n",
      "0               NaN           NaN         NaN  28997.370000           NaN   \n",
      "1               NaN           NaN         NaN  28980.336350           NaN   \n",
      "2               NaN           NaN         NaN  28978.521874           NaN   \n",
      "3               NaN           NaN         NaN  28973.591894           NaN   \n",
      "4               NaN           NaN         NaN  28953.337072           NaN   \n",
      "...             ...           ...         ...           ...           ...   \n",
      "44636  28622.387896  28481.818104  28522.7714  28547.813556  28534.765226   \n",
      "44637  28620.504862  28486.925538  28522.5512  28547.991704  28535.439257   \n",
      "44638  28617.718859  28493.183941  28521.8831  28548.166323  28536.117650   \n",
      "44639  28615.976942  28497.897058  28521.6289  28548.421446  28536.893232   \n",
      "44640  28614.117768  28503.001432  28521.7665  28548.812902  28537.815234   \n",
      "\n",
      "          bb_100_up   bb_100_down       macd  signal_line  \n",
      "0               NaN           NaN   0.000000     0.000000  \n",
      "1               NaN           NaN  -2.690712    -0.538142  \n",
      "2               NaN           NaN  -3.861946    -1.202903  \n",
      "3               NaN           NaN  -5.981608    -2.158644  \n",
      "4               NaN           NaN -14.205599    -4.568035  \n",
      "...             ...           ...        ...          ...  \n",
      "44636  28627.409359  28418.133441   4.055310     8.724605  \n",
      "44637  28626.804485  28418.297915   2.636563     7.506996  \n",
      "44638  28624.360617  28419.405583   1.494962     6.304589  \n",
      "44639  28623.583880  28419.673920   0.921743     5.228020  \n",
      "44640  28623.937257  28419.595743   1.031708     4.388758  \n",
      "\n",
      "[44641 rows x 39 columns]\n",
      "Columns: ['open_tstmp', 'open', 'high', 'low', 'vol', 'close_tstmp', 'quote_vol', 'trades', 'taker_base', 'taker_quote', 'sma_5', 'ema_5', 'wma_5', 'bb_5_up', 'bb_5_down', 'sma_10', 'ema_10', 'wma_10', 'bb_10_up', 'bb_10_down', 'sma_20', 'ema_20', 'wma_20', 'bb_20_up', 'bb_20_down', 'sma_50', 'ema_50', 'wma_50', 'bb_50_up', 'bb_50_down', 'sma_100', 'ema_100', 'wma_100', 'bb_100_up', 'bb_100_down', 'macd', 'signal_line']\n"
     ]
    }
   ],
   "source": [
    "pipeline.save_data()"
   ]
  },
  {
   "cell_type": "code",
   "execution_count": null,
   "metadata": {},
   "outputs": [],
   "source": []
  }
 ],
 "metadata": {
  "kernelspec": {
   "display_name": "venv_gan",
   "language": "python",
   "name": "venv_gan"
  },
  "language_info": {
   "codemirror_mode": {
    "name": "ipython",
    "version": 3
   },
   "file_extension": ".py",
   "mimetype": "text/x-python",
   "name": "python",
   "nbconvert_exporter": "python",
   "pygments_lexer": "ipython3",
   "version": "3.9.13"
  },
  "orig_nbformat": 4
 },
 "nbformat": 4,
 "nbformat_minor": 2
}
